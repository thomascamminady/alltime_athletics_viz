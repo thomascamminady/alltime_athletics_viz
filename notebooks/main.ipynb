{
 "cells": [
  {
   "cell_type": "code",
   "execution_count": null,
   "metadata": {},
   "outputs": [],
   "source": [
    "import altair as alt\n",
    "import polars as pl\n",
    "from alltime_athletics_python.io import download_data, import_running_only_events\n",
    "from camminapy.plot.altair_config import altair_theme\n",
    "\n",
    "from alltime_athletics_viz.show import show_df\n",
    "\n",
    "alt.data_transformers.disable_max_rows()\n",
    "altair_theme()"
   ]
  },
  {
   "cell_type": "code",
   "execution_count": null,
   "metadata": {},
   "outputs": [],
   "source": [
    "# if not os.path.exists(\"data\"):\n",
    "#     download_data()\n",
    "df = import_running_only_events(\"../data\")"
   ]
  },
  {
   "attachments": {},
   "cell_type": "markdown",
   "metadata": {},
   "source": [
    "# World Records"
   ]
  },
  {
   "attachments": {},
   "cell_type": "markdown",
   "metadata": {},
   "source": []
  },
  {
   "cell_type": "code",
   "execution_count": null,
   "metadata": {},
   "outputs": [],
   "source": []
  },
  {
   "cell_type": "code",
   "execution_count": null,
   "metadata": {},
   "outputs": [],
   "source": [
    "show_df(\n",
    "    df.filter(pl.col(\"rank\") == 1)\n",
    "    .filter(pl.col(\"event type\") == \"standard\")\n",
    "    .select(\"event\", \"name\", \"result\", \"sex\")\n",
    "    .pivot(\n",
    "        index=\"event\",\n",
    "        values=[\"name\", \"result\"],\n",
    "        columns=\"sex\",\n",
    "        aggregate_function=\"first\",\n",
    "    )\n",
    "    .select(\n",
    "        \"event\",\n",
    "        \"name_sex_female\",\n",
    "        \"result_sex_female\",\n",
    "        \"name_sex_male\",\n",
    "        \"result_sex_male\",\n",
    "    )\n",
    ")"
   ]
  },
  {
   "cell_type": "code",
   "execution_count": null,
   "metadata": {},
   "outputs": [],
   "source": [
    "world_records = (\n",
    "    df.filter(pl.col(\"event\").str.contains(\"walk\") == False)\n",
    "    .filter(pl.col(\"event type\") == \"standard\")\n",
    "    .sort(\"sex\", \"distance\", \"event\", \"date of event\")\n",
    "    .with_columns(\n",
    "        pl.col(\"result seconds\")\n",
    "        .cummin()\n",
    "        .over(\"sex\", \"event\")\n",
    "        .alias(\"world record time\")\n",
    "    )\n",
    "    .filter(pl.col(\"result seconds\") == pl.col(\"world record time\"))\n",
    "    .groupby(\"sex\", \"event\", \"result seconds\", maintain_order=True)\n",
    "    .first()\n",
    "    .with_columns(\n",
    "        (\n",
    "            100\n",
    "            * pl.col(\"result seconds\")\n",
    "            / pl.col(\"result seconds\").min().over(\"sex\", \"event\")\n",
    "        ).alias(\"percent of wr\")\n",
    "    )\n",
    ")\n",
    "\n",
    "world_records = pl.concat(\n",
    "    [\n",
    "        world_records,\n",
    "        world_records.filter(pl.col(\"rank\") == 1).with_columns(\n",
    "            [\n",
    "                pl.lit(\"2023-06-07\")\n",
    "                .str.strptime(pl.Date, format=\"%Y-%m-%d\")\n",
    "                .alias(\"date of event\"),\n",
    "                pl.lit(-1).cast(pl.Int64).alias(\"rank\"),\n",
    "            ]\n",
    "        ),\n",
    "    ]\n",
    ").with_columns(pl.col(\"sex\").apply(lambda s: s.title()))"
   ]
  },
  {
   "cell_type": "code",
   "execution_count": null,
   "metadata": {},
   "outputs": [],
   "source": [
    "legend_selection = alt.selection_point(fields=[\"event\"], bind=\"legend\")\n",
    "legend_selection_empty = alt.selection_point(\n",
    "    fields=[\"event\"], bind=\"legend\", empty=False\n",
    ")\n",
    "\n",
    "base = (\n",
    "    alt.Chart(world_records.to_pandas())\n",
    "    .encode(\n",
    "        x=alt.X(\"date of event:T\")\n",
    "        .scale(domain=(\"1950-01-01\", \"2026-01-01\"))\n",
    "        .title(\"Year\"),\n",
    "        y=alt.Y(\"percent of wr:Q\")\n",
    "        .scale(domain=(100, 110))\n",
    "        .axis(values=list(range(100, 120, 2)))\n",
    "        .title(\"Time in % of current WR\"),\n",
    "        color=alt.Color(\n",
    "            \"event:N\",\n",
    "            sort=world_records.sort(\"distance\")[\"event\"]\n",
    "            .unique(maintain_order=True)\n",
    "            .to_list(),\n",
    "        ).scale(scheme=\"dark2\"),\n",
    "        # strokeDash=\"sex:N\",\n",
    "        opacity=alt.condition(legend_selection, alt.value(1), alt.value(0)),\n",
    "    )\n",
    "    .properties(width=1400, height=500)\n",
    "    .add_params(legend_selection)\n",
    "    .add_params(legend_selection_empty)\n",
    ")\n",
    "\n",
    "base_no_endpoint = base.transform_filter(alt.datum[\"rank\"] > 0)\n",
    "\n",
    "text = base_no_endpoint.encode(\n",
    "    text=\"name:N\",\n",
    "    opacity=alt.condition(legend_selection_empty, alt.value(0.9), alt.value(0.0)),\n",
    ")\n",
    "\n",
    "\n",
    "alt.layer(\n",
    "    base.mark_line(interpolate=\"step-after\", clip=True, strokeWidth=3),\n",
    "    base_no_endpoint.mark_point(filled=True, clip=True, size=100),\n",
    "    text.mark_text(clip=True, fontSize=14, angle=270 + 45, align=\"left\", dx=15),\n",
    ").facet(\n",
    "    row=alt.Row(\"sex:N\").title(\"\").header(labelAngle=0),\n",
    "    title=\"World Record Progression\",\n",
    ").resolve_scale(\n",
    "    x=\"independent\"\n",
    ")"
   ]
  },
  {
   "cell_type": "code",
   "execution_count": null,
   "metadata": {},
   "outputs": [],
   "source": [
    "(\n",
    "    world_records.with_columns(\n",
    "        pl.col(\"date of event\")\n",
    "        .shift_and_fill(\n",
    "            periods=-1,\n",
    "            fill_value=pl.lit(\"2023-06-05\").str.strptime(pl.Date, format=\"%Y-%m-%d\"),\n",
    "        )\n",
    "        .over(\"sex\", \"event\")\n",
    "        .alias(\"wr valid until\")\n",
    "    )\n",
    "    .with_columns(\n",
    "        (pl.col(\"wr valid until\") - pl.col(\"date of event\")).alias(\"wr duration\")\n",
    "    )\n",
    "    .filter(pl.col(\"sex\") == \"Male\")\n",
    "    # .filter(pl.col(\"event\") == \"marathon\")\n",
    "    .drop(\"has hurdles\", \"event type\", \"distance\", \"on track\")\n",
    "    .filter(pl.col(\"wr duration\") == pl.col(\"wr duration\").max().over(\"sex\", \"event\"))\n",
    "    .sort(\"wr duration\")\n",
    ")"
   ]
  },
  {
   "cell_type": "code",
   "execution_count": null,
   "metadata": {},
   "outputs": [],
   "source": [
    "df.groupby(\"sex\", \"event\").head(100).groupby(\"name\").count().sort(\"count\").filter(\n",
    "    pl.col(\"count\") > 30\n",
    ")"
   ]
  },
  {
   "cell_type": "code",
   "execution_count": null,
   "metadata": {},
   "outputs": [],
   "source": [
    "(\n",
    "    df.filter(pl.col(\"event type\") == \"standard\")\n",
    "    .filter(~pl.col(\"event\").str.contains(\"walk\"))\n",
    "    .sort(\"distance\")\n",
    "    .groupby(\"sex\", \"event\", maintain_order=True)\n",
    "    .head(20)\n",
    "    .groupby(\"sex\", \"event\", \"name\", maintain_order=True)\n",
    "    .count()\n",
    "    .sort(\"count\")\n",
    "    .groupby(\"sex\", \"event\", maintain_order=True)\n",
    "    .last()\n",
    "    .pivot(\n",
    "        index=\"event\",\n",
    "        columns=\"sex\",\n",
    "        values=[\"name\", \"count\"],\n",
    "        aggregate_function=\"first\",\n",
    "    )\n",
    "    .select(\n",
    "        [\n",
    "            \"event\",\n",
    "            \"name_sex_female\",\n",
    "            \"count_sex_female\",\n",
    "            \"name_sex_male\",\n",
    "            \"count_sex_male\",\n",
    "        ]\n",
    "    )\n",
    ")"
   ]
  },
  {
   "cell_type": "code",
   "execution_count": null,
   "metadata": {},
   "outputs": [],
   "source": [
    "world_records.groupby(\"name\").count().sort(\"count\").filter(pl.col(\"count\") > 3)"
   ]
  },
  {
   "cell_type": "code",
   "execution_count": null,
   "metadata": {},
   "outputs": [],
   "source": [
    "alt.Chart(\n",
    "    world_records.with_columns(pl.col(\"date of event\").dt.year().alias(\"year of event\"))\n",
    "    .filter(pl.col(\"rank\") > 0)\n",
    "    # .filter(pl.col(\"distance type\") == \"sprint\")\n",
    "    .groupby(\"year of event\", \"distance type\", maintain_order=True)\n",
    "    .count()\n",
    "    .to_pandas()\n",
    ").mark_bar().encode(\n",
    "    x=alt.X(\"year of event:N\").axis(values=list(range(1950, 2030, 10))),\n",
    "    y=\"count:Q\",\n",
    "    color=\"distance type:N\",\n",
    ")"
   ]
  },
  {
   "cell_type": "code",
   "execution_count": null,
   "metadata": {},
   "outputs": [],
   "source": [
    "world_records"
   ]
  },
  {
   "cell_type": "code",
   "execution_count": null,
   "metadata": {},
   "outputs": [],
   "source": []
  }
 ],
 "metadata": {
  "kernelspec": {
   "language": "python",
   "name": "python3"
  },
  "language_info": {
   "codemirror_mode": {
    "name": "ipython",
    "version": 3
   },
   "file_extension": ".py",
   "mimetype": "text/x-python",
   "name": "python",
   "nbconvert_exporter": "python",
   "pygments_lexer": "ipython3",
   "version": "3.11.3"
  }
 },
 "nbformat": 4,
 "nbformat_minor": 2
}
