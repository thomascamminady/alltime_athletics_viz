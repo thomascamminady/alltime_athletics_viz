{
 "cells": [
  {
   "cell_type": "code",
   "execution_count": null,
   "metadata": {},
   "outputs": [],
   "source": [
    "%load_ext autoreload\n",
    "%autoreload 2\n",
    "import altair as alt\n",
    "from alltime_athletics_viz.io import parse_running_events\n",
    "import polars as pl\n",
    "alt.data_transformers.disable_max_rows()\n"
   ]
  },
  {
   "cell_type": "code",
   "execution_count": null,
   "metadata": {},
   "outputs": [],
   "source": [
    "df = parse_running_events()\n",
    "df.groupby(\"event\", maintain_order=True).first()\n",
    "\n",
    "df = df.with_columns(  # add percentages w.r.t world records\n",
    "    (\n",
    "        100\n",
    "        * (\n",
    "            pl.col(\"result seconds\")\n",
    "            / pl.col(\"result seconds\").head(10).last().over(\"event\")\n",
    "        )\n",
    "    ).alias(\"percentage of 10th\")\n",
    ")"
   ]
  },
  {
   "cell_type": "code",
   "execution_count": null,
   "metadata": {},
   "outputs": [],
   "source": [
    "df.head(3)"
   ]
  },
  {
   "cell_type": "code",
   "execution_count": null,
   "metadata": {},
   "outputs": [],
   "source": [
    "legend_selection = alt.selection_point(fields=[\"event\"], bind=\"legend\")\n",
    "chart = (\n",
    "    alt.Chart(df.filter(pl.col(\"rank\") < 1000))\n",
    "    .mark_line(clip=True, point=True)\n",
    "    # .mark_point(filled=True, size=10, clip=True)\n",
    "    # .mark_line(clip=True, interpolate=\"step-after\",point=True)\n",
    "    .encode(\n",
    "        # x=alt.X(\"rank:Q\").scale(domain=(1, 51)),\n",
    "        # x=alt.X(\"percentage of 10th:Q\").scale(domain=(100, 103)),\n",
    "        y=alt.Y(\"percentage of wr:Q\").scale(domain=(100, 103)),\n",
    "        # y=alt.Y(\"rank:Q\").scale(domain=(10, 501)),\n",
    "        x=alt.X(\"rank:Q\").scale(domain=(1, 25)).axis(values=list(range(1, 26))),\n",
    "        color=(\n",
    "            alt.Color(\"event:N\")\n",
    "            .scale(zero=False, scheme=\"dark2\")\n",
    "            .legend(columns=1, symbolLimit=0, labelLimit=0)\n",
    "        ),\n",
    "        tooltip=[\"event:O\"],\n",
    "        # detail=alt.Detail(\":N\"),\n",
    "        # column=alt.Column(\"distance type:N\", spacing=50),\n",
    "        # row=\"distance type:N\",\n",
    "        shape=alt.Shape(\"distance type:N\"),\n",
    "        detail=\"event:N\",\n",
    "        opacity=alt.condition(legend_selection, alt.value(1), alt.value(0.1)),\n",
    "    )\n",
    "    .properties(width=1400, height=500)\n",
    "    # .resolve_scale(x=\"independent\")\n",
    "    # .resolve_scale(y=\"independent\")\n",
    "    .add_params(legend_selection)\n",
    "    # .properties(title={\"text\": \"TITLE GOES HERE\", **Footer().subtitle()})\n",
    "    # .configure_title(anchor=\"start\")\n",
    "    # .configure_axisX(titleAlign=\"right\")\n",
    "    # .configure_axisY(titleY=100, titleAlign=\"center\", titleAngle=-90, titleX=-50)\n",
    "    # .interactive()\n",
    ")\n",
    "chart"
   ]
  },
  {
   "cell_type": "code",
   "execution_count": null,
   "metadata": {},
   "outputs": [],
   "source": [
    "df.groupby(\"event\").first()"
   ]
  },
  {
   "cell_type": "code",
   "execution_count": null,
   "metadata": {},
   "outputs": [],
   "source": []
  }
 ],
 "metadata": {
  "kernelspec": {
   "language": "python",
   "name": "python3"
  },
  "language_info": {
   "codemirror_mode": {
    "name": "ipython",
    "version": 3
   },
   "file_extension": ".py",
   "mimetype": "text/x-python",
   "name": "python",
   "nbconvert_exporter": "python",
   "pygments_lexer": "ipython3",
   "version": "3.11.3"
  }
 },
 "nbformat": 4,
 "nbformat_minor": 2
}
