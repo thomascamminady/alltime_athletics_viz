{
 "cells": [
  {
   "cell_type": "code",
   "execution_count": null,
   "metadata": {},
   "outputs": [],
   "source": [
    "import altair as alt\n",
    "import polars as pl\n",
    "\n",
    "from alltime_athletics_viz.io import import_running_only_events\n",
    "\n",
    "%load_ext autoreload\n",
    "%autoreload 2\n",
    "alt.data_transformers.disable_max_rows()"
   ]
  },
  {
   "cell_type": "code",
   "execution_count": null,
   "metadata": {},
   "outputs": [],
   "source": [
    "df = import_running_only_events()"
   ]
  },
  {
   "cell_type": "code",
   "execution_count": null,
   "metadata": {},
   "outputs": [],
   "source": [
    "world_records = (\n",
    "    df.groupby(\"sex\", \"event\", maintain_order=True).first().sort(\"sex\", \"distance\")\n",
    ")\n",
    "world_records"
   ]
  },
  {
   "cell_type": "code",
   "execution_count": null,
   "metadata": {},
   "outputs": [],
   "source": [
    "comparison_women_men = (\n",
    "    world_records.filter(\n",
    "        pl.col(\"event\").is_in([\"100m hurdles\", \"110m hurdles\"]).is_not()\n",
    "    )\n",
    "    .with_columns(\n",
    "        (\n",
    "            100\n",
    "            * pl.col(\"result seconds\").head(2).last().over(\"event\")\n",
    "            / pl.col(\"result seconds\").head(2).first().over(\"event\")\n",
    "            - 100\n",
    "        ).alias(\"Delta WR time Women vs Men in Percent\")\n",
    "    )\n",
    "    .filter(pl.col(\"sex\") == \"women\")\n",
    "    .select(\n",
    "        \"event\",\n",
    "        \"name\",\n",
    "        \"result\",\n",
    "        \"result seconds\",\n",
    "        \"Delta WR time Women vs Men in Percent\",\n",
    "        \"distance type\",\n",
    "    )\n",
    "    .sort(\"result seconds\")\n",
    ")\n",
    "comparison_women_men"
   ]
  },
  {
   "cell_type": "code",
   "execution_count": null,
   "metadata": {},
   "outputs": [],
   "source": [
    "# legend_selection = alt.selection_point(fields=[\"unit\"], bind=\"legend\")\n",
    "chart = (\n",
    "    alt.Chart(comparison_women_men)\n",
    "    # .mark_line(clip=True)\n",
    "    .mark_bar()\n",
    "    # .mark_point(filled=True, size=10, clip=True)\n",
    "    # .mark_line(clip=True, interpolate=\"step-after\",point=True)\n",
    "    .encode(\n",
    "        x=alt.X(\"event:N\")\n",
    "        .scale(zero=False)\n",
    "        .sort(comparison_women_men[\"event\"].to_list()),\n",
    "        y=alt.Y(\"Delta WR time Women vs Men in Percent:Q\").scale(zero=False),\n",
    "        color=(\n",
    "            alt.Color(\"distance type:N\")\n",
    "            .scale(zero=False, scheme=\"dark2\")\n",
    "            .legend(columns=1, symbolLimit=0, labelLimit=0)\n",
    "        ),\n",
    "        # detail=alt.Detail(\":N\"),\n",
    "        # row=alt.Row(\":N\",spacing=50),\n",
    "        # shape=alt.Shape(\":N\"),\n",
    "        # opacity=alt.condition(legend_selection, alt.value(1), alt.value(0.1)),\n",
    "    ).properties(width=1400, height=700)\n",
    "    # .resolve_scale(x=\"independent\")\n",
    "    # .resolve_scale(y=\"independent\")\n",
    "    # .add_params(legend_selection)\n",
    "    # .properties(title={\"text\": \"TITLE GOES HERE\", **Footer().subtitle()})\n",
    "    # .configure_title(anchor=\"start\")\n",
    "    # .configure_axisX(titleAlign=\"right\")\n",
    "    # .configure_axisY(titleY=100, titleAlign=\"center\", titleAngle=-90, titleX=-50)\n",
    "    # .interactive()\n",
    ")\n",
    "chart"
   ]
  },
  {
   "cell_type": "code",
   "execution_count": null,
   "metadata": {},
   "outputs": [],
   "source": []
  }
 ],
 "metadata": {
  "kernelspec": {
   "language": "python",
   "name": "python3"
  },
  "language_info": {
   "codemirror_mode": {
    "name": "ipython",
    "version": 3
   },
   "file_extension": ".py",
   "mimetype": "text/x-python",
   "name": "python",
   "nbconvert_exporter": "python",
   "pygments_lexer": "ipython3",
   "version": "3.11.3"
  }
 },
 "nbformat": 4,
 "nbformat_minor": 2
}
