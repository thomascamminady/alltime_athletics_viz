{
 "cells": [
  {
   "attachments": {},
   "cell_type": "markdown",
   "metadata": {},
   "source": [
    "# The Data"
   ]
  },
  {
   "attachments": {},
   "cell_type": "markdown",
   "metadata": {},
   "source": [
    "We'll start this analysis by providing a basic overview of the data we have at hand."
   ]
  },
  {
   "attachments": {},
   "cell_type": "markdown",
   "metadata": {},
   "source": [
    "## Credit\n",
    "\n",
    "All data comes from Peter Larsson's website [Alltime Athletics](https://www.alltime-athletics.com) and he deserves full credit for the collection that he curates.\n",
    "You should go and check out his website, it's amazing!  \n",
    "\n",
    "The data is scraped and processed using [`alltime_athletics_python`](https://github.com/thomascamminady/alltime_athletics_python)"
   ]
  },
  {
   "attachments": {},
   "cell_type": "markdown",
   "metadata": {},
   "source": [
    "## A first glance at the data\n",
    "\n",
    "To get an idea of the data that we will be dealing with, let's have a look at the first ten rows of the data frame.\n",
    "\n",
    "In total, we have over 170000 rows with 19 columns of data."
   ]
  },
  {
   "cell_type": "code",
   "execution_count": null,
   "metadata": {},
   "outputs": [],
   "source": [
    "import altair as alt\n",
    "import polars as pl\n",
    "from alltime_athletics_python.io import import_running_only_events\n",
    "from camminapy.plot.altair_config import altair_theme\n",
    "\n",
    "from alltime_athletics_viz.show import show_df\n",
    "\n",
    "# from alltime_athletics_python.io import download_data\n",
    "\n",
    "\n",
    "alt.data_transformers.disable_max_rows()\n",
    "altair_theme()\n",
    "\n",
    "# if not os.path.exists(\"data\"):\n",
    "#     download_data()\n",
    "df = import_running_only_events(\"../data\")"
   ]
  },
  {
   "cell_type": "code",
   "execution_count": null,
   "metadata": {},
   "outputs": [],
   "source": [
    "show_df(df.head(10))"
   ]
  },
  {
   "attachments": {},
   "cell_type": "markdown",
   "metadata": {},
   "source": [
    "We have data from 36 events with different numbers of entries inside the database"
   ]
  },
  {
   "cell_type": "code",
   "execution_count": null,
   "metadata": {},
   "outputs": [],
   "source": [
    "pl.Config.set_tbl_rows(100)\n",
    "show_df(\n",
    "    df.sort(\"distance\")\n",
    "    .groupby(\"event\", \"sex\", maintain_order=True)\n",
    "    .count()\n",
    "    .pivot(index=\"event\", columns=\"sex\", values=\"count\", aggregate_function=\"first\")\n",
    "    .fill_null(0)\n",
    ")"
   ]
  },
  {
   "attachments": {},
   "cell_type": "markdown",
   "metadata": {},
   "source": [
    "Here's how the data splits up among the sexes."
   ]
  },
  {
   "cell_type": "code",
   "execution_count": null,
   "metadata": {},
   "outputs": [],
   "source": [
    "show_df(df.groupby(\"sex\").count())"
   ]
  },
  {
   "attachments": {},
   "cell_type": "markdown",
   "metadata": {},
   "source": [
    "There is data from standard and special events. \n",
    "\n",
    "Here are the standard events."
   ]
  },
  {
   "cell_type": "code",
   "execution_count": null,
   "metadata": {},
   "outputs": [],
   "source": [
    "show_df(\n",
    "    pl.DataFrame(\n",
    "        df.filter(pl.col(\"event type\") == \"standard\")[\"event\"].unique(\n",
    "            maintain_order=True\n",
    "        )\n",
    "    )\n",
    ")"
   ]
  },
  {
   "attachments": {},
   "cell_type": "markdown",
   "metadata": {},
   "source": [
    "And here are the counts for the standard and special events."
   ]
  },
  {
   "cell_type": "code",
   "execution_count": null,
   "metadata": {},
   "outputs": [],
   "source": [
    "show_df(df.groupby(\"event type\").count())"
   ]
  },
  {
   "attachments": {},
   "cell_type": "markdown",
   "metadata": {},
   "source": [
    "Let's finish off this basic inspection by checking whether the world records look correct.\n"
   ]
  },
  {
   "cell_type": "code",
   "execution_count": null,
   "metadata": {},
   "outputs": [],
   "source": [
    "show_df(\n",
    "    df.filter(pl.col(\"rank\") == 1)\n",
    "    .filter(pl.col(\"event type\") == \"standard\")\n",
    "    .select(\"event\", \"name\", \"result\", \"sex\")\n",
    "    .pivot(\n",
    "        index=\"event\",\n",
    "        values=[\"name\", \"result\"],\n",
    "        columns=\"sex\",\n",
    "        aggregate_function=\"first\",\n",
    "    )\n",
    "    .select(\n",
    "        \"event\",\n",
    "        \"name_sex_female\",\n",
    "        \"result_sex_female\",\n",
    "        \"name_sex_male\",\n",
    "        \"result_sex_male\",\n",
    "    )\n",
    ")"
   ]
  },
  {
   "attachments": {},
   "cell_type": "markdown",
   "metadata": {},
   "source": [
    "This does indeed look right and even includes the most recent world record over the 1500m by Faith Kipyegon."
   ]
  }
 ],
 "metadata": {
  "kernelspec": {
   "display_name": ".venv",
   "language": "python",
   "name": "python3"
  },
  "language_info": {
   "codemirror_mode": {
    "name": "ipython",
    "version": 3
   },
   "file_extension": ".py",
   "mimetype": "text/x-python",
   "name": "python",
   "nbconvert_exporter": "python",
   "pygments_lexer": "ipython3",
   "version": "3.11.3"
  }
 },
 "nbformat": 4,
 "nbformat_minor": 2
}
